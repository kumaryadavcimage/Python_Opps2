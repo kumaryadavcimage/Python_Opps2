{
 "cells": [
  {
   "cell_type": "markdown",
   "id": "6713b3a9-e03d-4e01-84ef-c4074346a783",
   "metadata": {},
   "source": [
    "#### Q1. Explain Class and Object with respect to Object-Oriented Programming. Give a suitable example."
   ]
  },
  {
   "cell_type": "markdown",
   "id": "a4a7e11a-bc13-4603-9df0-86804691551d",
   "metadata": {},
   "source": [
    "#### solve\n",
    "\n",
    "In object-oriented programming (OOP), a class is a blueprint for creating objects, and an object is an instance of a class. A class defines the properties (attributes) and behaviors (methods) that objects created from the class will have. Objects are instances of classes, and they encapsulate data and functionality.\n",
    "\n",
    "Let's take an example to illustrate the concepts of class and object in Python:"
   ]
  },
  {
   "cell_type": "code",
   "execution_count": 1,
   "id": "1bf92ae2-89c4-4017-a1bb-a4ef6648c039",
   "metadata": {},
   "outputs": [
    {
     "name": "stdout",
     "output_type": "stream",
     "text": [
      "2022 Toyota Camry\n",
      "The 2022 Toyota Camry's engine is started.\n",
      "2023 Honda Accord\n",
      "The 2023 Honda Accord's engine is started.\n",
      "The 2022 Toyota Camry's engine is stopped.\n",
      "The 2023 Honda Accord's engine is stopped.\n"
     ]
    }
   ],
   "source": [
    "# Define a class named 'Car'\n",
    "class Car:\n",
    "    def __init__(self, make, model, year):\n",
    "        self.make = make\n",
    "        self.model = model\n",
    "        self.year = year\n",
    "        self.is_running = False\n",
    "\n",
    "    def start_engine(self):\n",
    "        print(f\"The {self.year} {self.make} {self.model}'s engine is started.\")\n",
    "        self.is_running = True\n",
    "\n",
    "    def stop_engine(self):\n",
    "        print(f\"The {self.year} {self.make} {self.model}'s engine is stopped.\")\n",
    "        self.is_running = False\n",
    "\n",
    "# Create instances (objects) of the 'Car' class\n",
    "car1 = Car(make='Toyota', model='Camry', year=2022)\n",
    "car2 = Car(make='Honda', model='Accord', year=2023)\n",
    "\n",
    "# Access attributes and call methods of the objects\n",
    "print(f\"{car1.year} {car1.make} {car1.model}\")\n",
    "car1.start_engine()\n",
    "\n",
    "print(f\"{car2.year} {car2.make} {car2.model}\")\n",
    "car2.start_engine()\n",
    "\n",
    "# Stop the engines\n",
    "car1.stop_engine()\n",
    "car2.stop_engine()\n"
   ]
  },
  {
   "cell_type": "markdown",
   "id": "a72a64b8-9e7a-4a17-acc7-1007771cb73f",
   "metadata": {},
   "source": [
    "In this example:\n",
    "\n",
    "Car is a class that has attributes like make, model, year, and a method start_engine and stop_engine.\n",
    "\n",
    "car1 and car2 are objects (instances) of the Car class.\n",
    "\n",
    "Each object has its own set of attributes, and you can call methods on each object."
   ]
  },
  {
   "cell_type": "markdown",
   "id": "54104e4f-42f4-4332-9114-4d3e10e87a80",
   "metadata": {},
   "source": [
    "#### Q2. Name the four pillars of OOPs."
   ]
  },
  {
   "cell_type": "markdown",
   "id": "895c0c65-080d-401a-9e99-b429097e23c8",
   "metadata": {},
   "source": [
    "#### solve\n",
    "The four pillars of Object-Oriented Programming (OOP) are:\n",
    "\n",
    "a.Encapsulation:\n",
    "\n",
    "Encapsulation refers to the bundling of data (attributes) and the methods that operate on the data into a single unit known as a class.\n",
    "\n",
    "It involves restricting direct access to some of an object's components and can prevent the accidental modification of data.\n",
    "\n",
    "b.Inheritance:\n",
    "\n",
    "Inheritance allows a class (subclass or derived class) to inherit properties and behaviors from another class (superclass or base class).\n",
    "\n",
    "It promotes code reuse and establishes a relationship between different classes.\n",
    "\n",
    "c.Polymorphism:\n",
    "\n",
    "Polymorphism allows objects of different classes to be treated as objects of a common base class.\n",
    "\n",
    "It enables a single interface to represent different types of objects, and it can take various forms such as method overloading and method overriding.\n",
    "\n",
    "d.Abstraction:\n",
    "\n",
    "Abstraction involves simplifying complex systems by modeling classes based on the essential features and ignoring unnecessary details.\n",
    "\n",
    "It provides a way to create abstract classes and abstract methods that define a common interface for all subclasses."
   ]
  },
  {
   "cell_type": "markdown",
   "id": "e07c9ec7-d314-48b6-a868-47307d6a569e",
   "metadata": {},
   "source": [
    "#### Q3. Explain why the __init__() function is used. Give a suitable example."
   ]
  },
  {
   "cell_type": "markdown",
   "id": "aef5c331-6ff1-4f2e-b68b-2563ffe694e9",
   "metadata": {},
   "source": [
    "#### solve\n",
    "\n",
    "In Python, the __init__() method is a special method that is automatically called when an object is created from a class. It is also known as the constructor method. The primary purpose of the __init__() method is to initialize the attributes of an object, providing a way to set up its initial state.\n",
    "\n",
    "Here's an example to illustrate the use of the __init__() method:"
   ]
  },
  {
   "cell_type": "code",
   "execution_count": 2,
   "id": "155770cd-77eb-407e-ac49-15000acb85c5",
   "metadata": {},
   "outputs": [
    {
     "name": "stdout",
     "output_type": "stream",
     "text": [
      "Buddy is 3 years old.\n",
      "Buddy says Woof!\n",
      "Max is 5 years old.\n",
      "Max says Woof!\n"
     ]
    }
   ],
   "source": [
    "class Dog:\n",
    "    def __init__(self, name, age):\n",
    "        # Initialize attributes\n",
    "        self.name = name\n",
    "        self.age = age\n",
    "\n",
    "    def bark(self):\n",
    "        print(f\"{self.name} says Woof!\")\n",
    "\n",
    "# Creating instances of the Dog class\n",
    "dog1 = Dog(name='Buddy', age=3)\n",
    "dog2 = Dog(name='Max', age=5)\n",
    "\n",
    "# Accessing attributes and calling methods\n",
    "print(f\"{dog1.name} is {dog1.age} years old.\")\n",
    "dog1.bark()\n",
    "\n",
    "print(f\"{dog2.name} is {dog2.age} years old.\")\n",
    "dog2.bark()\n"
   ]
  },
  {
   "cell_type": "markdown",
   "id": "958713f2-86a4-4e6a-81fb-1bb3afe30e04",
   "metadata": {},
   "source": [
    "####\n",
    "In this example:\n",
    "\n",
    "The Dog class has an __init__() method that initializes the attributes name and age when an instance of the class is created.\n",
    "\n",
    "The bark() method is defined to demonstrate the use of other methods in the class.\n",
    "\n",
    "Instances (dog1 and dog2) of the Dog class are created with specific values for the attributes using the __init__() method.\n",
    "\n",
    "Accessing attributes and calling methods on the created instances demonstrates the initialization process."
   ]
  },
  {
   "cell_type": "markdown",
   "id": "d4c50589-f079-4bc1-a148-8300cb478e99",
   "metadata": {},
   "source": [
    "#### Q4. Why self is used in OOPs?"
   ]
  },
  {
   "cell_type": "markdown",
   "id": "6e7afc8e-1f95-40df-b161-c574d6abb685",
   "metadata": {},
   "source": [
    "#### solve\n",
    "In Object-Oriented Programming (OOP), self is a convention used to represent the instance of the class. It is the first parameter passed to the methods of a class, including the __init__() method, and it refers to the instance of the class that the method is being called on.\n",
    "\n",
    "Here are a few key points explaining why self is used in OOP:\n",
    "\n",
    "a.Instance Reference:\n",
    "\n",
    "self refers to the instance of the class, allowing you to access the attributes and methods of that specific instance.\n",
    "\n",
    "It distinguishes instance variables from local variables within a class method.\n",
    "\n",
    "b.Accessing Attributes:\n",
    "\n",
    "Inside class methods, you use self to access and modify attributes of the instance.\n",
    "\n",
    "For example, self.attribute refers to an instance variable, while just attribute would be treated as a local variable.\n",
    "\n",
    "c.Calling Other Methods:\n",
    "\n",
    "self is used to call other methods within the same class.\n",
    "\n",
    "\n",
    "It allows methods to interact with each other and share information stored in instance variables.\n",
    "d.Instance Initialization:\n",
    "\n",
    "In the __init__() method, self is used to refer to the instance being created, allowing you to set up its initial state by initializing attributes.\n",
    "\n",
    "Here's an example to illustrate the use of self:"
   ]
  },
  {
   "cell_type": "code",
   "execution_count": 3,
   "id": "9fa56e01-56c7-48b5-b253-83ea6e3fa01a",
   "metadata": {},
   "outputs": [
    {
     "name": "stdout",
     "output_type": "stream",
     "text": [
      "Toyota Camry\n"
     ]
    }
   ],
   "source": [
    "class Car:\n",
    "    def __init__(self, make, model):\n",
    "        self.make = make\n",
    "        self.model = model\n",
    "\n",
    "    def display_info(self):\n",
    "        print(f\"{self.make} {self.model}\")\n",
    "\n",
    "# Creating an instance of the Car class\n",
    "my_car = Car(make='Toyota', model='Camry')\n",
    "\n",
    "# Calling a method on the instance using self\n",
    "my_car.display_info()  # Output: Toyota Camry\n"
   ]
  },
  {
   "cell_type": "markdown",
   "id": "62f89082-387b-4485-8119-c72b7e77e765",
   "metadata": {},
   "source": [
    "#### Q5. What is inheritance? Give an example for each type of inheritance."
   ]
  },
  {
   "cell_type": "markdown",
   "id": "30797e7b-4ca1-45f4-bfd2-dc543df42673",
   "metadata": {},
   "source": [
    "#### solve\n",
    "\n",
    "Inheritance is a fundamental concept in Object-Oriented Programming (OOP) that allows a new class to inherit properties and behaviors (attributes and methods) from an existing class. The class that is inherited from is called the superclass or base class, and the class that inherits is called the subclass or derived class. Inheritance promotes code reuse, extensibility, and the creation of a hierarchy of classes.\n",
    "\n",
    "There are several types of inheritance, and each has its own characteristics. The main types are:\n",
    "\n",
    "a.Single Inheritance:\n",
    "\n",
    "In single inheritance, a subclass inherits from only one superclass.\n",
    "\n",
    "Example:"
   ]
  },
  {
   "cell_type": "code",
   "execution_count": 4,
   "id": "9de1fe9e-16c1-42ea-9f7c-f5c45254be62",
   "metadata": {},
   "outputs": [
    {
     "name": "stdout",
     "output_type": "stream",
     "text": [
      "Animal speaks\n",
      "Dog barks\n"
     ]
    }
   ],
   "source": [
    "class Animal:\n",
    "    def speak(self):\n",
    "        print(\"Animal speaks\")\n",
    "\n",
    "class Dog(Animal):\n",
    "    def bark(self):\n",
    "        print(\"Dog barks\")\n",
    "\n",
    "# Creating an instance of the Dog class\n",
    "my_dog = Dog()\n",
    "my_dog.speak()  # Accessing method from the superclass\n",
    "my_dog.bark()   # Accessing method from the subclass\n"
   ]
  },
  {
   "cell_type": "markdown",
   "id": "7040ea28-1161-4a1e-8e67-23ee66d4e7e7",
   "metadata": {},
   "source": [
    "####\n",
    "b.Multiple Inheritance:\n",
    "\n",
    "In multiple inheritance, a subclass can inherit from more than one superclass.\n",
    "Example:"
   ]
  },
  {
   "cell_type": "code",
   "execution_count": 6,
   "id": "022a4737-b089-46ea-af46-b8e72bd67571",
   "metadata": {},
   "outputs": [
    {
     "name": "stdout",
     "output_type": "stream",
     "text": [
      "Bird chirps\n",
      "Mammal runs\n",
      "Bat flies\n"
     ]
    }
   ],
   "source": [
    "class Bird:\n",
    "    def chirp(self):\n",
    "        print(\"Bird chirps\")\n",
    "\n",
    "class Mammal:\n",
    "    def run(self):\n",
    "        print(\"Mammal runs\")\n",
    "\n",
    "class Bat(Bird, Mammal):\n",
    "    def fly(self):\n",
    "        print(\"Bat flies\")\n",
    "\n",
    "# Creating an instance of the Bat class\n",
    "my_bat = Bat()\n",
    "my_bat.chirp()  # Accessing method from the first superclass\n",
    "my_bat.run()    # Accessing method from the second superclass\n",
    "my_bat.fly()    # Accessing method from the subclass\n"
   ]
  },
  {
   "cell_type": "markdown",
   "id": "0b379e39-57e5-444f-bd62-2a5cb7d794d6",
   "metadata": {},
   "source": [
    "####\n",
    "c.Multilevel Inheritance:\n",
    "\n",
    "In multilevel inheritance, a subclass inherits from another subclass, forming a chain of inheritance.\n",
    "\n",
    "Example:"
   ]
  },
  {
   "cell_type": "code",
   "execution_count": 7,
   "id": "011d5d77-d8e7-4901-86e1-eb2204b73deb",
   "metadata": {},
   "outputs": [
    {
     "name": "stdout",
     "output_type": "stream",
     "text": [
      "Engine started\n",
      "Car is driving\n",
      "Sports car is racing\n"
     ]
    }
   ],
   "source": [
    "class Vehicle:\n",
    "    def start_engine(self):\n",
    "        print(\"Engine started\")\n",
    "\n",
    "class Car(Vehicle):\n",
    "    def drive(self):\n",
    "        print(\"Car is driving\")\n",
    "\n",
    "class SportsCar(Car):\n",
    "    def race(self):\n",
    "        print(\"Sports car is racing\")\n",
    "\n",
    "# Creating an instance of the SportsCar class\n",
    "my_sports_car = SportsCar()\n",
    "my_sports_car.start_engine()  # Accessing method from the first superclass\n",
    "my_sports_car.drive()         # Accessing method from the second superclass\n",
    "my_sports_car.race()          # Accessing method from the subclass\n"
   ]
  },
  {
   "cell_type": "markdown",
   "id": "6a2ad5b0-08de-4530-9b88-c3c0b39d9543",
   "metadata": {},
   "source": [
    "####\n",
    "d.Hierarchical Inheritance:\n",
    "\n",
    "In hierarchical inheritance, multiple subclasses inherit from the same superclass.\n",
    "\n",
    "Example:"
   ]
  },
  {
   "cell_type": "code",
   "execution_count": 8,
   "id": "ea604ef3-405e-4d26-a1d9-89bfd74b27b6",
   "metadata": {},
   "outputs": [
    {
     "name": "stdout",
     "output_type": "stream",
     "text": [
      "Drawing a circle\n",
      "Drawing a rectangle\n"
     ]
    }
   ],
   "source": [
    "class Shape:\n",
    "    def draw(self):\n",
    "        print(\"Drawing a shape\")\n",
    "\n",
    "class Circle(Shape):\n",
    "    def draw(self):\n",
    "        print(\"Drawing a circle\")\n",
    "\n",
    "class Rectangle(Shape):\n",
    "    def draw(self):\n",
    "        print(\"Drawing a rectangle\")\n",
    "\n",
    "# Creating instances of the Circle and Rectangle classes\n",
    "my_circle = Circle()\n",
    "my_rectangle = Rectangle()\n",
    "\n",
    "my_circle.draw()     # Accessing overridden method in the first subclass\n",
    "my_rectangle.draw()  # Accessing overridden method in the second subclass\n"
   ]
  },
  {
   "cell_type": "code",
   "execution_count": null,
   "id": "cc9488a5-c4f4-441b-b38e-f2492fd73a9e",
   "metadata": {},
   "outputs": [],
   "source": [
    "###"
   ]
  }
 ],
 "metadata": {
  "kernelspec": {
   "display_name": "Python 3 (ipykernel)",
   "language": "python",
   "name": "python3"
  },
  "language_info": {
   "codemirror_mode": {
    "name": "ipython",
    "version": 3
   },
   "file_extension": ".py",
   "mimetype": "text/x-python",
   "name": "python",
   "nbconvert_exporter": "python",
   "pygments_lexer": "ipython3",
   "version": "3.10.8"
  }
 },
 "nbformat": 4,
 "nbformat_minor": 5
}
